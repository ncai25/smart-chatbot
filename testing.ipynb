{
 "cells": [
  {
   "cell_type": "code",
   "execution_count": 1,
   "id": "3f1c60f5",
   "metadata": {
    "execution": {
     "iopub.execute_input": "2024-11-16T03:14:51.025719Z",
     "iopub.status.busy": "2024-11-16T03:14:51.025486Z",
     "iopub.status.idle": "2024-11-16T03:14:53.057443Z",
     "shell.execute_reply": "2024-11-16T03:14:53.056944Z"
    },
    "papermill": {
     "duration": 2.036863,
     "end_time": "2024-11-16T03:14:53.059931",
     "exception": false,
     "start_time": "2024-11-16T03:14:51.023068",
     "status": "completed"
    },
    "tags": []
   },
   "outputs": [
    {
     "name": "stdout",
     "output_type": "stream",
     "text": [
      "ChatCompletion(id='chatcmpl-AUGP3XHlg6stQtfoiOGtXKckXTyRz', choices=[Choice(finish_reason='stop', index=0, logprobs=None, message=ChatCompletionMessage(content='It seems like there might have been a typo or an error in your message. How can I assist you today?', refusal=None, role='assistant', audio=None, function_call=None, tool_calls=None))], created=1731776257, model='gpt-4o-2024-08-06', object='chat.completion', service_tier=None, system_fingerprint='fp_90354628f2', usage=CompletionUsage(completion_tokens=23, prompt_tokens=20, total_tokens=43, completion_tokens_details=CompletionTokensDetails(audio_tokens=0, reasoning_tokens=0, accepted_prediction_tokens=0, rejected_prediction_tokens=0), prompt_tokens_details=PromptTokensDetails(audio_tokens=0, cached_tokens=0)))\n"
     ]
    },
    {
     "data": {
      "text/plain": [
       "'It seems like there might have been a typo or an error in your message. How can I assist you today?'"
      ]
     },
     "execution_count": 1,
     "metadata": {},
     "output_type": "execute_result"
    }
   ],
   "source": [
    "import openai\n",
    "from openai import OpenAI\n",
    "import os\n",
    "from dotenv import load_dotenv\n",
    "\n",
    "load_dotenv()\n",
    "openai.api_key = os.getenv(\"OPENAI_API_KEY\")\n",
    "\n",
    "\n",
    "def generate_openai_response(user_message):\n",
    "    client = OpenAI()\n",
    "    response = client.chat.completions.create(\n",
    "        model=\"gpt-4o\",\n",
    "        messages=[\n",
    "        {\"role\": \"system\", \"content\": \"You are a helpful assistant.\"},\n",
    "        {\n",
    "            \"role\": \"user\",\n",
    "            \"content\": user_message\n",
    "        }\n",
    "    ],\n",
    "        # stream=True\n",
    "    )\n",
    "    print(response)\n",
    "    return response.choices[0].message.content\n",
    "\n",
    "generate_openai_response(\"gsggs\")"
   ]
  },
  {
   "cell_type": "code",
   "execution_count": 14,
   "id": "c5252b13",
   "metadata": {},
   "outputs": [
    {
     "name": "stdout",
     "output_type": "stream",
     "text": [
      "[40, 3047, 1238]\n",
      "[40, 3047, 1238, 25325]\n"
     ]
    }
   ],
   "source": [
    "import tiktoken\n",
    "\n",
    "encoding = tiktoken.encoding_for_model(model_name=\"gpt-4o\")\n",
    "\n",
    "example = \"I love data\"\n",
    "example2 = \"I love dataCamp\"\n",
    "\n",
    "print(encoding.encode(example))\n",
    "print(encoding.encode(example2))"
   ]
  }
 ],
 "metadata": {
  "kernelspec": {
   "display_name": "flask-env",
   "language": "python",
   "name": "python3"
  },
  "language_info": {
   "codemirror_mode": {
    "name": "ipython",
    "version": 3
   },
   "file_extension": ".py",
   "mimetype": "text/x-python",
   "name": "python",
   "nbconvert_exporter": "python",
   "pygments_lexer": "ipython3",
   "version": "3.12.7"
  },
  "papermill": {
   "default_parameters": {},
   "duration": 3.583758,
   "end_time": "2024-11-16T03:14:53.279227",
   "environment_variables": {},
   "exception": null,
   "input_path": "testing.ipynb",
   "output_path": "testing.ipynb",
   "parameters": {},
   "start_time": "2024-11-16T03:14:49.695469",
   "version": "2.6.0"
  }
 },
 "nbformat": 4,
 "nbformat_minor": 5
}
